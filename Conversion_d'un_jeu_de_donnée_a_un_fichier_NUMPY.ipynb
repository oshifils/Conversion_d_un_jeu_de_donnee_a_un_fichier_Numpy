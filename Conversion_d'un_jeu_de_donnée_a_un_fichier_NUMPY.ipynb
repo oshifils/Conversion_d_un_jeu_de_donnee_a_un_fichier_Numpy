{
  "nbformat": 4,
  "nbformat_minor": 0,
  "metadata": {
    "colab": {
      "provenance": [],
      "gpuType": "T4"
    },
    "kernelspec": {
      "name": "python3",
      "display_name": "Python 3"
    },
    "language_info": {
      "name": "python"
    },
    "accelerator": "GPU"
  },
  "cells": [
    {
      "cell_type": "code",
      "execution_count": 2,
      "metadata": {
        "colab": {
          "base_uri": "https://localhost:8080/"
        },
        "id": "1DPds5STcbmP",
        "outputId": "45bfeb93-3d88-4330-f76f-850429a23822"
      },
      "outputs": [
        {
          "output_type": "stream",
          "name": "stdout",
          "text": [
            "Images sauvegardées avec succès dans '/content/drive/MyDrive/donne/images_data.npz'\n"
          ]
        }
      ],
      "source": [
        "import os\n",
        "import numpy as np\n",
        "import cv2\n",
        "\n",
        "# Spécifiez le chemin vers le dossier contenant les images\n",
        "images_dir = '/content/drive/MyDrive/donne'\n",
        "\n",
        "# Spécifiez le répertoire de sortie où le fichier NumPy sera sauvegardé\n",
        "output_dir = '/content/drive/MyDrive/donne'\n",
        "\n",
        "# Créer le répertoire de sortie s'il n'existe pas\n",
        "os.makedirs(output_dir, exist_ok=True)\n",
        "\n",
        "# Liste pour stocker les tableaux NumPy des images\n",
        "images_np = []\n",
        "image_filenames = []\n",
        "\n",
        "# Parcourir tous les fichiers dans le dossier\n",
        "for filename in os.listdir(images_dir):\n",
        "    if filename.endswith(('.png', '.jpg', '.jpeg')):  # S'assurer que ce sont des images\n",
        "        image_path = os.path.join(images_dir, filename)\n",
        "\n",
        "        # Charger l'image et la convertir en tableau NumPy\n",
        "        image = cv2.imread(image_path)\n",
        "\n",
        "        if image is not None:\n",
        "            images_np.append(image)\n",
        "            image_filenames.append(filename)\n",
        "        else:\n",
        "            print(f\"Could not load image {filename}\")\n",
        "\n",
        "# Convertir la liste en un tableau NumPy\n",
        "images_np = np.array(images_np, dtype=object)  # dtype=object si les tailles d'image varient\n",
        "image_filenames_np = np.array(image_filenames)\n",
        "\n",
        "# Chemin complet du fichier NumPy compressé de sortie\n",
        "output_file = os.path.join(output_dir, 'images_data.npz')\n",
        "\n",
        "# Sauvegarder les images en format compressé .npz\n",
        "np.savez_compressed(output_file, images=images_np, filenames=image_filenames_np)\n",
        "\n",
        "print(f\"Images sauvegardées avec succès dans '{output_file}'\")"
      ]
    },
    {
      "cell_type": "code",
      "source": [
        "from google.colab import drive\n",
        "drive.mount('/content/drive')"
      ],
      "metadata": {
        "colab": {
          "base_uri": "https://localhost:8080/"
        },
        "id": "Kw2EW38Yq8T_",
        "outputId": "9f9433d5-1644-4f9c-bd66-75594bfc6ffe"
      },
      "execution_count": 1,
      "outputs": [
        {
          "output_type": "stream",
          "name": "stdout",
          "text": [
            "Mounted at /content/drive\n"
          ]
        }
      ]
    },
    {
      "cell_type": "code",
      "source": [],
      "metadata": {
        "id": "um-MCd9orJiF"
      },
      "execution_count": null,
      "outputs": []
    }
  ]
}