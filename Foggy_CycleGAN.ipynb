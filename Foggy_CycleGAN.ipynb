{
  "nbformat": 4,
  "nbformat_minor": 0,
  "metadata": {
    "accelerator": "GPU",
    "colab": {
      "name": "Foggy_CycleGAN.ipynb",
      "provenance": [],
      "include_colab_link": true
    },
    "kernelspec": {
      "display_name": "Python 3",
      "language": "python",
      "name": "python3"
    },
    "language_info": {
      "codemirror_mode": {
        "name": "ipython",
        "version": 3
      },
      "file_extension": ".py",
      "mimetype": "text/x-python",
      "name": "python",
      "nbconvert_exporter": "python",
      "pygments_lexer": "ipython3",
      "version": "3.7.6"
    }
  },
  "cells": [
    {
      "cell_type": "markdown",
      "metadata": {
        "id": "view-in-github",
        "colab_type": "text"
      },
      "source": [
        "<a href=\"https://colab.research.google.com/github/oshifils/Conversion_d_un_jeu_de_donnee_a_un_fichier_Numpy/blob/main/Foggy_CycleGAN.ipynb\" target=\"_parent\"><img src=\"https://colab.research.google.com/assets/colab-badge.svg\" alt=\"Open In Colab\"/></a>"
      ]
    },
    {
      "cell_type": "markdown",
      "metadata": {
        "id": "_xnMOsbqHz61"
      },
      "source": [
        "# Foggy-CycleGAN"
      ]
    },
    {
      "cell_type": "markdown",
      "metadata": {
        "id": "e1_Y75QXJS6h"
      },
      "source": [
        "## Set up the input pipeline"
      ]
    },
    {
      "cell_type": "code",
      "metadata": {
        "id": "lhSsUx9Nyb3t",
        "colab": {
          "base_uri": "https://localhost:8080/"
        },
        "outputId": "3152ba3e-b111-467f-9597-46312e8cc3ec"
      },
      "source": [
        "import sys\n",
        "colab = 'google.colab' in sys.modules\n",
        "if colab:\n",
        "    # noinspection PyBroadException\n",
        "    try:\n",
        "        %tensorflow_version 2.x\n",
        "    except Exception:\n",
        "        pass\n",
        "import tensorflow as tf"
      ],
      "execution_count": 27,
      "outputs": [
        {
          "output_type": "stream",
          "name": "stdout",
          "text": [
            "Colab only includes TensorFlow 2.x; %tensorflow_version has no effect.\n"
          ]
        }
      ]
    },
    {
      "cell_type": "code",
      "metadata": {
        "id": "gct0xca4KwM6",
        "pycharm": {
          "name": "#%%\n"
        },
        "colab": {
          "base_uri": "https://localhost:8080/"
        },
        "outputId": "f4f0f717-6ac5-4c1a-bc26-c2849be6bbe7"
      },
      "source": [
        "# noinspection PyUnresolvedReferences\n",
        "print(tf.__version__)"
      ],
      "execution_count": 28,
      "outputs": [
        {
          "output_type": "stream",
          "name": "stdout",
          "text": [
            "2.17.0\n"
          ]
        }
      ]
    },
    {
      "cell_type": "code",
      "metadata": {
        "id": "YfIk2es3hJEd"
      },
      "source": [
        "import tensorflow_datasets as tfds\n",
        "\n",
        "import os\n",
        "from IPython.display import clear_output\n",
        "\n",
        "tfds.disable_progress_bar()"
      ],
      "execution_count": 29,
      "outputs": []
    },
    {
      "cell_type": "code",
      "metadata": {
        "id": "0Y14JF3xcXWB",
        "colab": {
          "base_uri": "https://localhost:8080/"
        },
        "outputId": "7a619854-a5b9-462d-bb70-428996926486"
      },
      "source": [
        "if colab:\n",
        "    os.environ['PROJECT_DIR'] = project_dir = '/content/Foggy-CycleGAN'\n",
        "    replace = True\n",
        "    if os.path.isdir(project_dir):\n",
        "        choice = input(\"Project already exists in folder \"+\n",
        "              \"{}\\nDelete the files and pull again? Enter Y/(N):\\n\"\n",
        "              .format(project_dir))\n",
        "        if choice.lower()=='y':\n",
        "            !rm -r $PROJECT_DIR\n",
        "            print(\"Deleted folder {}\".format(project_dir))\n",
        "        else:\n",
        "            replace = False\n",
        "            print(\"Nothing was changed.\")\n",
        "    if replace:\n",
        "        !cd /content && git clone https://github.com/ghaiszaher/Foggy-CycleGAN.git\n",
        "        print(\"Project cloned to \" + project_dir)\n",
        "    os.chdir(project_dir)\n",
        "    print(\"Done.\")"
      ],
      "execution_count": 30,
      "outputs": [
        {
          "output_type": "stream",
          "name": "stdout",
          "text": [
            "Project already exists in folder /content/Foggy-CycleGAN\n",
            "Delete the files and pull again? Enter Y/(N):\n",
            "n\n",
            "Nothing was changed.\n",
            "Done.\n"
          ]
        }
      ]
    },
    {
      "cell_type": "markdown",
      "metadata": {
        "id": "iYn4MdZnKCey"
      },
      "source": [
        "## Prepare Datasets"
      ]
    },
    {
      "cell_type": "code",
      "metadata": {
        "id": "2CbTEt448b4R"
      },
      "source": [
        "BATCH_SIZE = 5 if colab else 1\n",
        "IMG_WIDTH = 256\n",
        "IMG_HEIGHT = 256"
      ],
      "execution_count": 31,
      "outputs": []
    },
    {
      "cell_type": "code",
      "metadata": {
        "id": "Qu5_c2ecxZBF"
      },
      "source": [
        "project_label = \"clear\" #@param {type:\"string\"}"
      ],
      "execution_count": 32,
      "outputs": []
    },
    {
      "cell_type": "code",
      "execution_count": 33,
      "outputs": [
        {
          "output_type": "stream",
          "name": "stdout",
          "text": [
            "Mounted at /content/drive\n"
          ]
        }
      ],
      "source": [
        "mount_path = None #to suppress warnings\n",
        "drive_project_path = None\n",
        "if colab:\n",
        "    # noinspection PyUnresolvedReferences\n",
        "    from google.colab import drive\n",
        "    mount_path = '/content/drive'\n",
        "    drive.mount(mount_path, force_remount=True)\n",
        "    drive_project_path = os.path.join(mount_path,\"/content/Foggy-CycleGAN/\",project_label)\n",
        "    drive_datasets_path = os.path.join(mount_path,\"/content/Foggy-CycleGAN/dataset/\")\n",
        "    os.environ['DRIVE_PROJECT'] = drive_project_path\n",
        "    os.environ['DRIVE_DATASETS'] = drive_datasets_path"
      ],
      "metadata": {
        "pycharm": {
          "name": "#%%\n"
        },
        "id": "n-eisTzPGfDk",
        "outputId": "9d560da4-9e46-4905-f2f6-be7121b4c414",
        "colab": {
          "base_uri": "https://localhost:8080/"
        }
      }
    },
    {
      "cell_type": "code",
      "metadata": {
        "id": "95a1NFSv6Qfa",
        "colab": {
          "base_uri": "https://localhost:8080/"
        },
        "outputId": "90d5987b-cef9-4c6c-9301-c309667392b8"
      },
      "source": [
        "#Unzip dataset from Google Drive to /content/dataset/ folder\n",
        "if colab:\n",
        "    !sh $PROJECT_DIR/copy_dataset.sh"
      ],
      "execution_count": 34,
      "outputs": [
        {
          "output_type": "stream",
          "name": "stdout",
          "text": [
            "unzipping *.zip...\n",
            "unzip:  cannot find or open /content/Foggy-CycleGAN/dataset/*.zip, /content/Foggy-CycleGAN/dataset/*.zip.zip or /content/Foggy-CycleGAN/dataset/*.zip.ZIP.\n",
            "\n",
            "No zipfiles found.\n",
            "Done.\n",
            "All files unzipped.\n"
          ]
        }
      ]
    },
    {
      "cell_type": "code",
      "metadata": {
        "pycharm": {
          "name": "#%%\n"
        },
        "id": "-7Za2DrexGpg"
      },
      "source": [
        "test_split = 0.2 #@param {type:\"slider\", min:0.05, max:0.95, step:0.05}"
      ],
      "execution_count": 35,
      "outputs": []
    },
    {
      "cell_type": "code",
      "execution_count": 39,
      "outputs": [
        {
          "output_type": "error",
          "ename": "Exception",
          "evalue": "No images found!",
          "traceback": [
            "\u001b[0;31m---------------------------------------------------------------------------\u001b[0m",
            "\u001b[0;31mException\u001b[0m                                 Traceback (most recent call last)",
            "\u001b[0;32m<ipython-input-39-685fb3c0be84>\u001b[0m in \u001b[0;36m<cell line: 9>\u001b[0;34m()\u001b[0m\n\u001b[1;32m      7\u001b[0m \u001b[0mdatasetInit\u001b[0m \u001b[0;34m=\u001b[0m \u001b[0mDatasetInitializer\u001b[0m\u001b[0;34m(\u001b[0m\u001b[0;36m256\u001b[0m\u001b[0;34m,\u001b[0m \u001b[0;36m256\u001b[0m\u001b[0;34m)\u001b[0m\u001b[0;34m\u001b[0m\u001b[0;34m\u001b[0m\u001b[0m\n\u001b[1;32m      8\u001b[0m \u001b[0mdatasetInit\u001b[0m\u001b[0;34m.\u001b[0m\u001b[0mdataset_path\u001b[0m \u001b[0;34m=\u001b[0m \u001b[0;34m'/content/Foggy-CycleGAN/dataset/clear/'\u001b[0m\u001b[0;34m\u001b[0m\u001b[0;34m\u001b[0m\u001b[0m\n\u001b[0;32m----> 9\u001b[0;31m (train_clear, train_fog), (test_clear, test_fog), (sample_clear, sample_fog) = datasetInit.prepare_dataset(\n\u001b[0m\u001b[1;32m     10\u001b[0m     \u001b[0mBATCH_SIZE\u001b[0m\u001b[0;34m,\u001b[0m\u001b[0;34m\u001b[0m\u001b[0;34m\u001b[0m\u001b[0m\n\u001b[1;32m     11\u001b[0m     \u001b[0mtest_split\u001b[0m\u001b[0;34m=\u001b[0m\u001b[0mtest_split\u001b[0m\u001b[0;34m,\u001b[0m\u001b[0;34m\u001b[0m\u001b[0;34m\u001b[0m\u001b[0m\n",
            "\u001b[0;32m/content/Foggy-CycleGAN/lib/dataset.py\u001b[0m in \u001b[0;36mprepare_dataset\u001b[0;34m(self, batch_size, buffer_size, test_split, autotune, return_sample, sample_batch_size, random_seed)\u001b[0m\n\u001b[1;32m    213\u001b[0m                         \u001b[0mreturn_sample\u001b[0m\u001b[0;34m=\u001b[0m\u001b[0;32mTrue\u001b[0m\u001b[0;34m,\u001b[0m \u001b[0msample_batch_size\u001b[0m\u001b[0;34m=\u001b[0m\u001b[0;36m1\u001b[0m\u001b[0;34m,\u001b[0m\u001b[0;34m\u001b[0m\u001b[0;34m\u001b[0m\u001b[0m\n\u001b[1;32m    214\u001b[0m                         random_seed=None):\n\u001b[0;32m--> 215\u001b[0;31m         \u001b[0mself\u001b[0m\u001b[0;34m.\u001b[0m\u001b[0mfill_train_test_dataframes\u001b[0m\u001b[0;34m(\u001b[0m\u001b[0mtest_split\u001b[0m\u001b[0;34m,\u001b[0m \u001b[0mrandom_seed\u001b[0m\u001b[0;34m=\u001b[0m\u001b[0mrandom_seed\u001b[0m\u001b[0;34m)\u001b[0m\u001b[0;34m\u001b[0m\u001b[0;34m\u001b[0m\u001b[0m\n\u001b[0m\u001b[1;32m    216\u001b[0m         \u001b[0mself\u001b[0m\u001b[0;34m.\u001b[0m\u001b[0mfill_sample_dataframes\u001b[0m\u001b[0;34m(\u001b[0m\u001b[0;34m)\u001b[0m\u001b[0;34m\u001b[0m\u001b[0;34m\u001b[0m\u001b[0m\n\u001b[1;32m    217\u001b[0m \u001b[0;34m\u001b[0m\u001b[0m\n",
            "\u001b[0;32m/content/Foggy-CycleGAN/lib/dataset.py\u001b[0m in \u001b[0;36mfill_train_test_dataframes\u001b[0;34m(self, test_split, random_seed)\u001b[0m\n\u001b[1;32m    190\u001b[0m \u001b[0;34m\u001b[0m\u001b[0m\n\u001b[1;32m    191\u001b[0m     \u001b[0;32mdef\u001b[0m \u001b[0mfill_train_test_dataframes\u001b[0m\u001b[0;34m(\u001b[0m\u001b[0mself\u001b[0m\u001b[0;34m,\u001b[0m \u001b[0mtest_split\u001b[0m\u001b[0;34m=\u001b[0m\u001b[0;36m0.3\u001b[0m\u001b[0;34m,\u001b[0m \u001b[0mrandom_seed\u001b[0m\u001b[0;34m=\u001b[0m\u001b[0;32mNone\u001b[0m\u001b[0;34m)\u001b[0m\u001b[0;34m:\u001b[0m\u001b[0;34m\u001b[0m\u001b[0;34m\u001b[0m\u001b[0m\n\u001b[0;32m--> 192\u001b[0;31m         \u001b[0mimages_df\u001b[0m \u001b[0;34m=\u001b[0m \u001b[0mself\u001b[0m\u001b[0;34m.\u001b[0m\u001b[0mannotations_to_dataframe\u001b[0m\u001b[0;34m(\u001b[0m\u001b[0mself\u001b[0m\u001b[0;34m.\u001b[0m\u001b[0mdataset_path\u001b[0m\u001b[0;34m)\u001b[0m\u001b[0;34m\u001b[0m\u001b[0;34m\u001b[0m\u001b[0m\n\u001b[0m\u001b[1;32m    193\u001b[0m         \u001b[0mclear_df\u001b[0m \u001b[0;34m=\u001b[0m \u001b[0mimages_df\u001b[0m\u001b[0;34m[\u001b[0m\u001b[0mimages_df\u001b[0m\u001b[0;34m[\u001b[0m\u001b[0mCOLUMN_INTENSITY\u001b[0m\u001b[0;34m]\u001b[0m \u001b[0;34m==\u001b[0m \u001b[0;36m0\u001b[0m\u001b[0;34m]\u001b[0m\u001b[0;34m\u001b[0m\u001b[0;34m\u001b[0m\u001b[0m\n\u001b[1;32m    194\u001b[0m         \u001b[0mfog_df\u001b[0m \u001b[0;34m=\u001b[0m \u001b[0mimages_df\u001b[0m\u001b[0;34m[\u001b[0m\u001b[0mimages_df\u001b[0m\u001b[0;34m[\u001b[0m\u001b[0mCOLUMN_INTENSITY\u001b[0m\u001b[0;34m]\u001b[0m \u001b[0;34m!=\u001b[0m \u001b[0;36m0\u001b[0m\u001b[0;34m]\u001b[0m\u001b[0;34m\u001b[0m\u001b[0;34m\u001b[0m\u001b[0m\n",
            "\u001b[0;32m/content/Foggy-CycleGAN/lib/dataset.py\u001b[0m in \u001b[0;36mannotations_to_dataframe\u001b[0;34m(self, path)\u001b[0m\n\u001b[1;32m    185\u001b[0m \u001b[0;34m\u001b[0m\u001b[0m\n\u001b[1;32m    186\u001b[0m         \u001b[0;32mif\u001b[0m \u001b[0mimages_df\u001b[0m \u001b[0;32mis\u001b[0m \u001b[0;32mNone\u001b[0m\u001b[0;34m:\u001b[0m\u001b[0;34m\u001b[0m\u001b[0;34m\u001b[0m\u001b[0m\n\u001b[0;32m--> 187\u001b[0;31m             \u001b[0;32mraise\u001b[0m \u001b[0mException\u001b[0m\u001b[0;34m(\u001b[0m\u001b[0;34m\"No images found!\"\u001b[0m\u001b[0;34m)\u001b[0m\u001b[0;34m\u001b[0m\u001b[0;34m\u001b[0m\u001b[0m\n\u001b[0m\u001b[1;32m    188\u001b[0m \u001b[0;34m\u001b[0m\u001b[0m\n\u001b[1;32m    189\u001b[0m         \u001b[0;32mreturn\u001b[0m \u001b[0mimages_df\u001b[0m\u001b[0;34m\u001b[0m\u001b[0;34m\u001b[0m\u001b[0m\n",
            "\u001b[0;31mException\u001b[0m: No images found!"
          ]
        }
      ],
      "source": [
        "from lib.dataset import DatasetInitializer\n",
        "import sys\n",
        "sys.path.append('/content/Foggy-CycleGAN/lib')\n",
        "\n",
        "BATCH_SIZE = 32  # ou une autre valeur appropriée\n",
        "test_split = 0.2  # ou une autre proportion pour la division train/test\n",
        "datasetInit = DatasetInitializer(256, 256)\n",
        "datasetInit.dataset_path = '/content/Foggy-CycleGAN/dataset/'\n",
        "(train_clear, train_fog), (test_clear, test_fog), (sample_clear, sample_fog) = datasetInit.prepare_dataset(\n",
        "    BATCH_SIZE,\n",
        "    test_split=test_split,\n",
        "    random_seed=7)\n"
      ],
      "metadata": {
        "pycharm": {
          "name": "#%%\n"
        },
        "id": "4E4ucCXQGfDk",
        "outputId": "11fafa72-40c9-425b-ba13-bdce0918044f",
        "colab": {
          "base_uri": "https://localhost:8080/",
          "height": 370
        }
      }
    },
    {
      "cell_type": "code",
      "source": [
        "from lib.dataset import DatasetInitializer\n",
        "\n",
        "# Initialisation avec les dimensions des images\n",
        "datasetInit = DatasetInitializer(256, 256)\n",
        "\n",
        "# Définition du chemin vers le dataset\n",
        "datasetInit.dataset_path = '/content/Foggy-CycleGAN/dataset/clear/'  # Ajustez le chemin selon votre environnement\n",
        "\n",
        "# Préparation du dataset\n",
        "(train_clear, train_fog), (test_clear, test_fog), (sample_clear, sample_fog) = datasetInit.prepare_dataset(\n",
        "    BATCH_SIZE,\n",
        "    test_split=test_split,\n",
        "    random_seed=7\n",
        ")\n"
      ],
      "metadata": {
        "id": "9zUC0q4uO-6L",
        "outputId": "dd90c5f8-e19c-4a63-cd34-ed1d08aae560",
        "colab": {
          "base_uri": "https://localhost:8080/",
          "height": 370
        }
      },
      "execution_count": 37,
      "outputs": [
        {
          "output_type": "error",
          "ename": "Exception",
          "evalue": "No images found!",
          "traceback": [
            "\u001b[0;31m---------------------------------------------------------------------------\u001b[0m",
            "\u001b[0;31mException\u001b[0m                                 Traceback (most recent call last)",
            "\u001b[0;32m<ipython-input-37-62bd2b6f8a09>\u001b[0m in \u001b[0;36m<cell line: 10>\u001b[0;34m()\u001b[0m\n\u001b[1;32m      8\u001b[0m \u001b[0;34m\u001b[0m\u001b[0m\n\u001b[1;32m      9\u001b[0m \u001b[0;31m# Préparation du dataset\u001b[0m\u001b[0;34m\u001b[0m\u001b[0;34m\u001b[0m\u001b[0m\n\u001b[0;32m---> 10\u001b[0;31m (train_clear, train_fog), (test_clear, test_fog), (sample_clear, sample_fog) = datasetInit.prepare_dataset(\n\u001b[0m\u001b[1;32m     11\u001b[0m     \u001b[0mBATCH_SIZE\u001b[0m\u001b[0;34m,\u001b[0m\u001b[0;34m\u001b[0m\u001b[0;34m\u001b[0m\u001b[0m\n\u001b[1;32m     12\u001b[0m     \u001b[0mtest_split\u001b[0m\u001b[0;34m=\u001b[0m\u001b[0mtest_split\u001b[0m\u001b[0;34m,\u001b[0m\u001b[0;34m\u001b[0m\u001b[0;34m\u001b[0m\u001b[0m\n",
            "\u001b[0;32m/content/Foggy-CycleGAN/lib/dataset.py\u001b[0m in \u001b[0;36mprepare_dataset\u001b[0;34m(self, batch_size, buffer_size, test_split, autotune, return_sample, sample_batch_size, random_seed)\u001b[0m\n\u001b[1;32m    213\u001b[0m                         \u001b[0mreturn_sample\u001b[0m\u001b[0;34m=\u001b[0m\u001b[0;32mTrue\u001b[0m\u001b[0;34m,\u001b[0m \u001b[0msample_batch_size\u001b[0m\u001b[0;34m=\u001b[0m\u001b[0;36m1\u001b[0m\u001b[0;34m,\u001b[0m\u001b[0;34m\u001b[0m\u001b[0;34m\u001b[0m\u001b[0m\n\u001b[1;32m    214\u001b[0m                         random_seed=None):\n\u001b[0;32m--> 215\u001b[0;31m         \u001b[0mself\u001b[0m\u001b[0;34m.\u001b[0m\u001b[0mfill_train_test_dataframes\u001b[0m\u001b[0;34m(\u001b[0m\u001b[0mtest_split\u001b[0m\u001b[0;34m,\u001b[0m \u001b[0mrandom_seed\u001b[0m\u001b[0;34m=\u001b[0m\u001b[0mrandom_seed\u001b[0m\u001b[0;34m)\u001b[0m\u001b[0;34m\u001b[0m\u001b[0;34m\u001b[0m\u001b[0m\n\u001b[0m\u001b[1;32m    216\u001b[0m         \u001b[0mself\u001b[0m\u001b[0;34m.\u001b[0m\u001b[0mfill_sample_dataframes\u001b[0m\u001b[0;34m(\u001b[0m\u001b[0;34m)\u001b[0m\u001b[0;34m\u001b[0m\u001b[0;34m\u001b[0m\u001b[0m\n\u001b[1;32m    217\u001b[0m \u001b[0;34m\u001b[0m\u001b[0m\n",
            "\u001b[0;32m/content/Foggy-CycleGAN/lib/dataset.py\u001b[0m in \u001b[0;36mfill_train_test_dataframes\u001b[0;34m(self, test_split, random_seed)\u001b[0m\n\u001b[1;32m    190\u001b[0m \u001b[0;34m\u001b[0m\u001b[0m\n\u001b[1;32m    191\u001b[0m     \u001b[0;32mdef\u001b[0m \u001b[0mfill_train_test_dataframes\u001b[0m\u001b[0;34m(\u001b[0m\u001b[0mself\u001b[0m\u001b[0;34m,\u001b[0m \u001b[0mtest_split\u001b[0m\u001b[0;34m=\u001b[0m\u001b[0;36m0.3\u001b[0m\u001b[0;34m,\u001b[0m \u001b[0mrandom_seed\u001b[0m\u001b[0;34m=\u001b[0m\u001b[0;32mNone\u001b[0m\u001b[0;34m)\u001b[0m\u001b[0;34m:\u001b[0m\u001b[0;34m\u001b[0m\u001b[0;34m\u001b[0m\u001b[0m\n\u001b[0;32m--> 192\u001b[0;31m         \u001b[0mimages_df\u001b[0m \u001b[0;34m=\u001b[0m \u001b[0mself\u001b[0m\u001b[0;34m.\u001b[0m\u001b[0mannotations_to_dataframe\u001b[0m\u001b[0;34m(\u001b[0m\u001b[0mself\u001b[0m\u001b[0;34m.\u001b[0m\u001b[0mdataset_path\u001b[0m\u001b[0;34m)\u001b[0m\u001b[0;34m\u001b[0m\u001b[0;34m\u001b[0m\u001b[0m\n\u001b[0m\u001b[1;32m    193\u001b[0m         \u001b[0mclear_df\u001b[0m \u001b[0;34m=\u001b[0m \u001b[0mimages_df\u001b[0m\u001b[0;34m[\u001b[0m\u001b[0mimages_df\u001b[0m\u001b[0;34m[\u001b[0m\u001b[0mCOLUMN_INTENSITY\u001b[0m\u001b[0;34m]\u001b[0m \u001b[0;34m==\u001b[0m \u001b[0;36m0\u001b[0m\u001b[0;34m]\u001b[0m\u001b[0;34m\u001b[0m\u001b[0;34m\u001b[0m\u001b[0m\n\u001b[1;32m    194\u001b[0m         \u001b[0mfog_df\u001b[0m \u001b[0;34m=\u001b[0m \u001b[0mimages_df\u001b[0m\u001b[0;34m[\u001b[0m\u001b[0mimages_df\u001b[0m\u001b[0;34m[\u001b[0m\u001b[0mCOLUMN_INTENSITY\u001b[0m\u001b[0;34m]\u001b[0m \u001b[0;34m!=\u001b[0m \u001b[0;36m0\u001b[0m\u001b[0;34m]\u001b[0m\u001b[0;34m\u001b[0m\u001b[0;34m\u001b[0m\u001b[0m\n",
            "\u001b[0;32m/content/Foggy-CycleGAN/lib/dataset.py\u001b[0m in \u001b[0;36mannotations_to_dataframe\u001b[0;34m(self, path)\u001b[0m\n\u001b[1;32m    185\u001b[0m \u001b[0;34m\u001b[0m\u001b[0m\n\u001b[1;32m    186\u001b[0m         \u001b[0;32mif\u001b[0m \u001b[0mimages_df\u001b[0m \u001b[0;32mis\u001b[0m \u001b[0;32mNone\u001b[0m\u001b[0;34m:\u001b[0m\u001b[0;34m\u001b[0m\u001b[0;34m\u001b[0m\u001b[0m\n\u001b[0;32m--> 187\u001b[0;31m             \u001b[0;32mraise\u001b[0m \u001b[0mException\u001b[0m\u001b[0;34m(\u001b[0m\u001b[0;34m\"No images found!\"\u001b[0m\u001b[0;34m)\u001b[0m\u001b[0;34m\u001b[0m\u001b[0;34m\u001b[0m\u001b[0m\n\u001b[0m\u001b[1;32m    188\u001b[0m \u001b[0;34m\u001b[0m\u001b[0m\n\u001b[1;32m    189\u001b[0m         \u001b[0;32mreturn\u001b[0m \u001b[0mimages_df\u001b[0m\u001b[0;34m\u001b[0m\u001b[0;34m\u001b[0m\u001b[0m\n",
            "\u001b[0;31mException\u001b[0m: No images found!"
          ]
        }
      ]
    },
    {
      "cell_type": "markdown",
      "metadata": {
        "id": "hvX8sKsfMaio",
        "pycharm": {
          "name": "#%% md\n"
        }
      },
      "source": [
        "## Build Generator"
      ]
    },
    {
      "cell_type": "code",
      "metadata": {
        "id": "8ju9Wyw87MRW"
      },
      "source": [
        "from lib.models import ModelsBuilder\n",
        "OUTPUT_CHANNELS = 3\n",
        "models_builder = ModelsBuilder()"
      ],
      "execution_count": null,
      "outputs": []
    },
    {
      "cell_type": "code",
      "metadata": {
        "id": "1PlWxBqiHu1M"
      },
      "source": [
        "use_transmission_map = False #@param{type: \"boolean\"}\n",
        "use_gauss_filter = False #@param{type: \"boolean\"}\n",
        "use_resize_conv = False #@param{type: \"boolean\"}\n",
        "\n",
        "generator_clear2fog = models_builder.build_generator(use_transmission_map=use_transmission_map,\n",
        "                                                     use_gauss_filter=use_gauss_filter,\n",
        "                                                     use_resize_conv=use_resize_conv)\n",
        "generator_fog2clear = models_builder.build_generator(use_transmission_map=False)"
      ],
      "execution_count": null,
      "outputs": []
    },
    {
      "cell_type": "code",
      "metadata": {
        "id": "ZEiYYoqtKwOA",
        "pycharm": {
          "name": "#%%\n"
        }
      },
      "source": [
        "tf.keras.utils.plot_model(generator_clear2fog, show_shapes=True, dpi=64, to_file='generator_clear2fog.png');"
      ],
      "execution_count": null,
      "outputs": []
    },
    {
      "cell_type": "code",
      "metadata": {
        "id": "YdQXzKvjKwON",
        "pycharm": {
          "name": "#%%\n"
        }
      },
      "source": [
        "tf.keras.utils.plot_model(generator_fog2clear, show_shapes=True, dpi=64, to_file='generator_fog2clear.png');"
      ],
      "execution_count": null,
      "outputs": []
    },
    {
      "cell_type": "markdown",
      "metadata": {
        "id": "FsCfIhjeIDGM",
        "pycharm": {
          "name": "#%% md\n"
        }
      },
      "source": [
        "## Build Discriminator"
      ]
    },
    {
      "cell_type": "code",
      "metadata": {
        "id": "eSZb1ZsOIbhj"
      },
      "source": [
        "use_intensity_for_fog_discriminator = False #@param{type: \"boolean\"}\n",
        "discriminator_fog = models_builder.build_discriminator(use_intensity=use_intensity_for_fog_discriminator)\n",
        "discriminator_clear = models_builder.build_discriminator(use_intensity=False)"
      ],
      "execution_count": null,
      "outputs": []
    },
    {
      "cell_type": "code",
      "metadata": {
        "id": "lAp1Ob5ZMAKe"
      },
      "source": [
        "tf.keras.utils.plot_model(discriminator_fog, show_shapes=True, dpi=64, to_file=\"discriminator_fog.png\");\n",
        "tf.keras.utils.plot_model(discriminator_clear, show_shapes=True, dpi=64, to_file=\"discriminator_clear.png\");"
      ],
      "execution_count": null,
      "outputs": []
    },
    {
      "cell_type": "markdown",
      "metadata": {
        "id": "aKUZnDiqQrAh",
        "pycharm": {
          "name": "#%% md\n"
        }
      },
      "source": [
        "## Checkpoints"
      ]
    },
    {
      "cell_type": "code",
      "metadata": {
        "id": "WJnftd5sQsv6"
      },
      "source": [
        "if colab:\n",
        "    weights_path = os.path.join(drive_project_path, 'weights/')\n",
        "else:\n",
        "    weights_path = \"./weights/\""
      ],
      "execution_count": null,
      "outputs": []
    },
    {
      "cell_type": "code",
      "metadata": {
        "id": "E5qke6pCSeoK"
      },
      "source": [
        "from lib.train import Trainer\n",
        "trainer = Trainer(generator_clear2fog, generator_fog2clear,\n",
        "                 discriminator_fog, discriminator_clear)\n",
        "\n",
        "trainer.configure_checkpoint(weights_path = weights_path, load_optimizers=False)"
      ],
      "execution_count": null,
      "outputs": []
    },
    {
      "cell_type": "code",
      "metadata": {
        "id": "wDaGZ3WpZUyw",
        "pycharm": {
          "name": "#%%\n"
        }
      },
      "source": [
        "from lib.plot import plot_generators_predictions\n",
        "for clear, fog in tf.data.Dataset.zip((sample_clear.take(1), sample_fog.take(1))):\n",
        "    plot_generators_predictions(generator_clear2fog, clear, generator_fog2clear, fog)"
      ],
      "execution_count": null,
      "outputs": []
    },
    {
      "cell_type": "code",
      "metadata": {
        "id": "O5MhJmxyZiy9",
        "pycharm": {
          "name": "#%%\n"
        }
      },
      "source": [
        "from lib.plot import plot_discriminators_predictions\n",
        "for clear, fog in tf.data.Dataset.zip((sample_clear.take(1), sample_fog.take(1))):\n",
        "    plot_discriminators_predictions(discriminator_clear, clear, discriminator_fog, fog, use_intensity_for_fog_discriminator)"
      ],
      "execution_count": null,
      "outputs": []
    },
    {
      "cell_type": "markdown",
      "metadata": {
        "id": "Rw1fkAczTQYh"
      },
      "source": [
        "## Training"
      ]
    },
    {
      "cell_type": "code",
      "metadata": {
        "pycharm": {
          "name": "#%%\n"
        },
        "id": "UaubWnbRxGrh"
      },
      "source": [
        "use_tensorboard = True #@param{type:\"boolean\"}"
      ],
      "execution_count": null,
      "outputs": []
    },
    {
      "cell_type": "code",
      "metadata": {
        "pycharm": {
          "name": "#%%\n"
        },
        "id": "TndgaMHnxGrs"
      },
      "source": [
        "if use_tensorboard:\n",
        "    import tensorboard\n",
        "    tb = tensorboard.program.TensorBoard()\n",
        "    if colab:\n",
        "        trainer.tensorboard_base_logdir = os.path.join(drive_project_path,\"tensorboard_logs/\")\n",
        "    tb.configure(argv=[None, '--logdir', trainer.tensorboard_base_logdir])\n",
        "    url = tb.launch()\n",
        "    if colab:\n",
        "        tensorboard.notebook.display(port=6006, height=1000)\n",
        "    else:\n",
        "        print(url)"
      ],
      "execution_count": null,
      "outputs": []
    },
    {
      "cell_type": "code",
      "metadata": {
        "pycharm": {
          "name": "#%%\n"
        },
        "id": "5LeVzPCaxGrz"
      },
      "source": [
        "if colab:\n",
        "    trainer.image_log_path = os.path.join(drive_project_path,\"image_logs/\")\n",
        "    trainer.config_path  = os.path.join(drive_project_path,\"trainer_config.json\")"
      ],
      "execution_count": null,
      "outputs": []
    },
    {
      "cell_type": "code",
      "metadata": {
        "pycharm": {
          "name": "#%%\n"
        },
        "id": "ie_Z7WkRxGr5"
      },
      "source": [
        "trainer.load_config()"
      ],
      "execution_count": null,
      "outputs": []
    },
    {
      "cell_type": "code",
      "metadata": {
        "id": "NS2GWywBbAWo"
      },
      "source": [
        "use_transmission_map_loss=True #@param{type: \"boolean\"}\n",
        "use_whitening_loss=True #@param{type: \"boolean\"}\n",
        "use_rgb_ratio_loss=True #@param{type: \"boolean\"}\n",
        "save_optimizers=False #@param{type: \"boolean\"}\n",
        "\n",
        "trainer.train(\n",
        "    train_clear, train_fog,\n",
        "    epochs=100,\n",
        "    clear_output_callback=lambda: clear_output(wait=True),\n",
        "    use_tensorboard=use_tensorboard,\n",
        "    sample_test=(sample_clear, sample_fog),\n",
        "    load_config_first=False,\n",
        "    use_transmission_map_loss=use_transmission_map_loss,\n",
        "    use_whitening_loss=use_whitening_loss,\n",
        "    use_rgb_ratio_loss=use_rgb_ratio_loss,\n",
        "    save_optimizers=save_optimizers,\n",
        "    use_intensity_for_fog_discriminator=use_intensity_for_fog_discriminator\n",
        ")"
      ],
      "execution_count": null,
      "outputs": []
    },
    {
      "cell_type": "markdown",
      "metadata": {
        "collapsed": false,
        "id": "bmA0Q6ZxxGsG"
      },
      "source": [
        "## Testing"
      ]
    },
    {
      "cell_type": "code",
      "metadata": {
        "id": "NLnOk_xqvFNm",
        "pycharm": {
          "name": "#%%\n"
        }
      },
      "source": [
        "# TODO: store predictions\n",
        "for clear, fog in zip(test_clear.take(5), test_fog.take(5)):\n",
        "    plot_generators_predictions(generator_clear2fog, clear, generator_fog2clear, fog)"
      ],
      "execution_count": null,
      "outputs": []
    },
    {
      "cell_type": "code",
      "execution_count": null,
      "outputs": [],
      "source": [
        "for clear, fog in zip(sample_clear, sample_fog):\n",
        "    plot_generators_predictions(generator_clear2fog, clear, generator_fog2clear, fog)"
      ],
      "metadata": {
        "pycharm": {
          "name": "#%%\n"
        },
        "id": "QFg8dxqAGfDm"
      }
    },
    {
      "cell_type": "code",
      "execution_count": null,
      "outputs": [],
      "source": [
        "from lib.plot import plot_clear2fog_intensity\n",
        "from matplotlib import pyplot as plt\n",
        "\n",
        "intensity_path = './intensity/'\n",
        "from lib.tools import create_dir\n",
        "create_dir(intensity_path)\n",
        "\n",
        "image_clear = next(iter(test_clear))[0][0]\n",
        "step = 0.05\n",
        "for (ind, i) in enumerate(tf.range(0,1+step, step)):\n",
        "    fig = plot_clear2fog_intensity(generator_clear2fog, image_clear, i)\n",
        "    fig.savefig(os.path.join(intensity_path\n",
        "                             , \"{:02d}_intensity_{:0.2f}.jpg\".format(ind,i)), bbox_inches='tight', pad_inches=0)\n",
        "    if colab:\n",
        "        plt.show()\n",
        "    else:\n",
        "        plt.close(fig)\n"
      ],
      "metadata": {
        "pycharm": {
          "name": "#%%\n"
        },
        "id": "gsysQjOHGfDm"
      }
    },
    {
      "cell_type": "code",
      "execution_count": null,
      "outputs": [],
      "source": [
        "if colab:\n",
        "    !cd ./intensity; zip /content/intensity.zip *"
      ],
      "metadata": {
        "pycharm": {
          "name": "#%%\n"
        },
        "id": "DbGfd246GfDm"
      }
    },
    {
      "cell_type": "markdown",
      "source": [
        "## Testing Custom images\n"
      ],
      "metadata": {
        "collapsed": false,
        "pycharm": {
          "name": "#%% md\n"
        },
        "id": "4Q33_bP9GfDm"
      }
    },
    {
      "cell_type": "code",
      "execution_count": null,
      "outputs": [],
      "source": [
        "from lib.plot import plot_clear2fog_intensity\n",
        "from matplotlib import pyplot as plt\n",
        "\n",
        "intensity_path = './intensity/'\n",
        "from lib.tools import create_dir\n",
        "create_dir(intensity_path)\n",
        "file_path = 'E:/Downloads/test-image.png'\n",
        "\n",
        "image_clear = tf.io.decode_png(tf.io.read_file(file_path), channels=3)\n",
        "image_clear, _ = datasetInit.preprocess_image_test(image_clear, 0)\n",
        "step = 0.05\n",
        "for (ind, i) in enumerate(tf.range(0,1+step, step)):\n",
        "    fig = plot_clear2fog_intensity(generator_clear2fog, image_clear, i)\n",
        "    fig.savefig(os.path.join(intensity_path\n",
        "                             , \"{:02d}_intensity_{:0.2f}.jpg\".format(ind,i)), bbox_inches='tight', pad_inches=0)\n",
        "    if colab:\n",
        "        plt.show()\n",
        "    else:\n",
        "        plt.close(fig)"
      ],
      "metadata": {
        "pycharm": {
          "name": "#%%\n"
        },
        "id": "35J1nneMGfDm"
      }
    },
    {
      "cell_type": "code",
      "execution_count": null,
      "outputs": [],
      "source": [
        "if colab:\n",
        "    !cd ./intensity; zip /content/intensity.zip *"
      ],
      "metadata": {
        "pycharm": {
          "name": "#%%\n"
        },
        "id": "rwRTFzU7GfDq"
      }
    }
  ]
}